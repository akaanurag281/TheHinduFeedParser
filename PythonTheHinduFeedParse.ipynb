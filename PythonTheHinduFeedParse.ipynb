{
  "cells": [
    {
      "cell_type": "markdown",
      "metadata": {
        "id": "view-in-github",
        "colab_type": "text"
      },
      "source": [
        "<a href=\"https://colab.research.google.com/github/akaanurag281/TheHinduFeedParser/blob/main/PythonTheHinduFeedParse.ipynb\" target=\"_parent\"><img src=\"https://colab.research.google.com/assets/colab-badge.svg\" alt=\"Open In Colab\"/></a>"
      ]
    },
    {
      "cell_type": "code",
      "execution_count": 29,
      "metadata": {
        "id": "Msf5Q43e_EGA",
        "colab": {
          "base_uri": "https://localhost:8080/"
        },
        "outputId": "327ca53c-868e-432c-fb29-45f024154cc4"
      },
      "outputs": [
        {
          "output_type": "stream",
          "name": "stdout",
          "text": [
            "Drive already mounted at /content/drive; to attempt to forcibly remount, call drive.mount(\"/content/drive\", force_remount=True).\n"
          ]
        }
      ],
      "source": [
        "from google.colab import drive\n",
        "drive.mount('/content/drive')"
      ]
    },
    {
      "cell_type": "code",
      "execution_count": 30,
      "metadata": {
        "id": "3yRor5SJ_dUM",
        "outputId": "419c4555-9dd3-40b7-8713-bf6674bafe60",
        "colab": {
          "base_uri": "https://localhost:8080/"
        }
      },
      "outputs": [
        {
          "output_type": "stream",
          "name": "stdout",
          "text": [
            "Completed!\n"
          ]
        }
      ],
      "source": [
        "!pip install feedparser --quiet\n",
        "!pip install requests --quiet\n",
        "!pip install beautifulsoup4 --quiet\n",
        "!pip install openai --quiet\n",
        "print(\"Completed!\")"
      ]
    },
    {
      "cell_type": "code",
      "execution_count": 31,
      "metadata": {
        "id": "_p6Sos6D8KEd"
      },
      "outputs": [],
      "source": [
        "#OPEN AI API and Cosine Similarity Functions + My SQL Server + Embedding by BERT\n",
        "from openai import OpenAI\n",
        "import os\n",
        "import pandas as pd\n",
        "import numpy as np\n",
        "os.environ['OPENAI_API_KEY'] = open('/content/drive/MyDrive/openaikey.txt').read().strip()\n",
        "client = OpenAI()\n",
        "def openai_generate_summary( #Very Costly\n",
        "    prompt\n",
        "):\n",
        "    res = client.chat.completions.create(\n",
        "        model=\"gpt-3.5-turbo\",\n",
        "        #model=\"gpt-4\",\n",
        "        max_tokens=800,\n",
        "        temperature=0.5,\n",
        "        top_p=0.8,\n",
        "        frequency_penalty=0.6,\n",
        "        messages=\n",
        "       [\n",
        "         {\n",
        "          \"role\": \"system\",\n",
        "          \"content\": \"You are a helpful assistant for text summarization.\",\n",
        "         },\n",
        "         {\n",
        "          \"role\": \"user\",\n",
        "          \"content\": f\"Detailed summarize this with facts, act, policy,etc {prompt}\",\n",
        "         },\n",
        "        ],\n",
        "    )\n",
        "    return res.choices[0].message.content\n",
        "def get_embedding(text, model ):#=\"text-embedding-ada-002\"):\n",
        "   text = text.replace(\"\\n\", \" \")\n",
        "   response = client.embeddings.create(input=[text], model=model)\n",
        "   return response.data[0].embedding\n",
        "def cosine_similarity(a, b):\n",
        "    return np.dot(a, b) / (np.linalg.norm(a) * np.linalg.norm(b))"
      ]
    },
    {
      "cell_type": "code",
      "execution_count": 32,
      "metadata": {
        "id": "3v845NoGGM2i"
      },
      "outputs": [],
      "source": [
        "#Import News Content from RSS feed\n",
        "import requests\n",
        "import re\n",
        "from bs4 import BeautifulSoup\n",
        "import pandas as pd\n",
        "def get_news_content(url):\n",
        "  response = requests.get(url)\n",
        "\n",
        "  if response.status_code == 200:\n",
        "    news_content = response.text\n",
        "    soup = BeautifulSoup(news_content, 'html.parser')\n",
        "    content_element = soup.find('div', {'class': 'articlebodycontent', 'itemprop': 'articleBody'})\n",
        "    if content_element:\n",
        "      news_content = content_element.get_text()\n",
        "      return extract_text_before_comments(news_content)\n",
        "    else:\n",
        "      print(\"Content element not found for url:\", url)\n",
        "  else:\n",
        "    print(\"Failed to fetch news content from the provided link\")\n",
        "\n",
        "def extract_text_before_comments(text):\n",
        "    # Define a pattern to find \"Comments\" in a contextually irrelevant position (case-insensitive)\n",
        "    pattern = re.compile(r\"comments\", re.IGNORECASE)\n",
        "    # Find the index where \"Comments\" appears in the text\n",
        "    match = re.search(pattern, text)\n",
        "    if match:\n",
        "        # Extract text before the occurrence of \"Comments\"\n",
        "        filtered_text = text[:match.start()].strip()\n",
        "        return filtered_text\n",
        "    else:\n",
        "        return \"No 'Comments' found or improperly formatted text\""
      ]
    },
    {
      "cell_type": "code",
      "execution_count": 33,
      "metadata": {
        "id": "iH8wt-vqHWAa"
      },
      "outputs": [],
      "source": [
        "pyq_Df = pd.read_csv('/content/drive/MyDrive/ColabData/pyq_with_embedding.csv')\n",
        "pyq_Df['embedding'] = pyq_Df['embedding'].apply(eval).apply(np.array ) #to be used for Numpy calculation"
      ]
    },
    {
      "cell_type": "code",
      "execution_count": 34,
      "metadata": {
        "id": "Sr6odpb61HOa",
        "outputId": "4fd80f71-4440-4ff7-a0ed-28d5ed7616f5",
        "colab": {
          "base_uri": "https://localhost:8080/"
        }
      },
      "outputs": [
        {
          "output_type": "stream",
          "name": "stdout",
          "text": [
            "User input date: 2024-07-24\n",
            "Fetching news from https://www.thehindu.com/feeder/default.rss\n",
            "Fetching news from https://www.thehindu.com/sci-tech/science/feeder/default.rss\n",
            "Fetching news from https://www.thehindu.com/business/agri-business/feeder/default.rss\n",
            "Fetching news from https://www.thehindu.com/business/Industry/feeder/default.rss\n",
            "Fetching news from https://www.thehindu.com/business/Economy/feeder/default.rss\n",
            "Fetching news from https://www.thehindu.com/business/budget/feeder/default.rss\n",
            "Content element not found for url: https://www.thehindu.com/news/national/parliament-monsoon-session-budget-2024-live-updates-july-24/article68440069.ece\n",
            "Fetching news from https://www.thehindu.com/news/national/feeder/default.rss\n",
            "Fetching news from https://www.thehindu.com/news/international/feeder/default.rss\n",
            "Content element not found for url: https://www.thehindu.com/shorts/watch-us-election-2024-foreign-policy-implications-that-could-impact-india/article68441276.ece\n",
            "Content element not found for url: https://www.thehindu.com/news/international/nepal-plane-crash-saurya-airlines-kathmandu-death-toll-highlights-july-24-2024/article68440504.ece\n",
            "Fetching news from https://www.thehindu.com/news/states/feeder/default.rss\n",
            "Fetching news from https://www.thehindu.com/opinion/columns/feeder/default.rss\n",
            "Fetching news from https://www.thehindu.com/opinion/editorial/feeder/default.rss\n",
            "Fetching news from https://www.thehindu.com/opinion/lead/feeder/default.rss\n",
            "File saved successfully.\n"
          ]
        }
      ],
      "source": [
        "import feedparser\n",
        "import os\n",
        "from datetime import datetime, timedelta\n",
        "\n",
        "def get_valid_date_input():\n",
        "    while True:\n",
        "        user_input = input(\"Enter a date in YYYY-MM-DD format (press Enter for today's date): \")\n",
        "        if not user_input:  # Check if the user pressed Enter without providing a date\n",
        "            return datetime.now().date()  # Return today's date as default\n",
        "        try:\n",
        "            date_object = datetime.strptime(user_input, \"%Y-%m-%d\")\n",
        "            return date_object.date()\n",
        "        except ValueError:\n",
        "            print(\"Invalid date format. Please enter date in YYYY-MM-DD format.\")\n",
        "\n",
        "\n",
        "def fetch_news_from_feed(rss_url,user_date):\n",
        "    # Initialize empty lists to store data\n",
        "    titles = []\n",
        "    links = []\n",
        "    subHeading = []\n",
        "    news_contents = []\n",
        "    # Parse the RSS feed\n",
        "    feed = feedparser.parse(rss_url)\n",
        "    for entry in feed.entries:\n",
        "        published_date = datetime.strptime(entry.published, \"%a, %d %b %Y %H:%M:%S %z\").date()\n",
        "        if  published_date == user_date:\n",
        "            titles.append(entry.title)\n",
        "            links.append(entry.link)\n",
        "            if hasattr(entry, 'description') and entry.description:\n",
        "                  subHeading.append(entry.description)\n",
        "            else:\n",
        "                subHeading.append(entry.summary)\n",
        "            news_contents.append(get_news_content(entry.link))\n",
        "    data = {\n",
        "    'Title': titles,\n",
        "    'Link': links,\n",
        "    'SubHeading': subHeading,\n",
        "    'News Content': news_contents\n",
        "        }\n",
        "    return pd.DataFrame(data)\n",
        "\n",
        "\n",
        "all_news_articles_Df = pd.DataFrame()\n",
        "# List of RSS feed URLs\n",
        "rss_feeds = [\n",
        "    'https://www.thehindu.com/feeder/default.rss',\n",
        "    'https://www.thehindu.com/sci-tech/science/feeder/default.rss',\n",
        "    'https://www.thehindu.com/business/agri-business/feeder/default.rss',\n",
        "    'https://www.thehindu.com/business/Industry/feeder/default.rss',\n",
        "    'https://www.thehindu.com/business/Economy/feeder/default.rss',\n",
        "    'https://www.thehindu.com/business/budget/feeder/default.rss',\n",
        "    'https://www.thehindu.com/news/national/feeder/default.rss',\n",
        "    'https://www.thehindu.com/news/international/feeder/default.rss',\n",
        "    'https://www.thehindu.com/news/states/feeder/default.rss',\n",
        "    'https://www.thehindu.com/opinion/columns/feeder/default.rss',\n",
        "    'https://www.thehindu.com/opinion/editorial/feeder/default.rss',\n",
        "    'https://www.thehindu.com/opinion/lead/feeder/default.rss'\n",
        "    # Add more feed URLs here...\n",
        "]\n",
        "\n",
        "csv_file_path = '/content/sample_data/todays_epaper.csv'\n",
        "#Get Data from user input\n",
        "\n",
        "\n",
        "# Usage\n",
        "#user_date = get_valid_date_input()\n",
        "# Get the current date\n",
        "current_date = datetime.now().date()\n",
        "\n",
        "# Subtract one day to get the previous date\n",
        "user_date = current_date - timedelta(days=1)\n",
        "#user_date = datetime.now().date()\n",
        "print(\"User input date:\", user_date)\n",
        "\n",
        "# Check if the file exists\n",
        "if not os.path.exists(csv_file_path):\n",
        "  # Fetch news from each RSS feed\n",
        "     for rss_url in rss_feeds:\n",
        "         print(f\"Fetching news from {rss_url}\")\n",
        "         news_from_rss_feed_Df = fetch_news_from_feed(rss_url,user_date)\n",
        "         all_news_articles_Df = pd.concat([all_news_articles_Df, news_from_rss_feed_Df], ignore_index=True)\n",
        "     #print(all_news_articles_Df)\n",
        "     all_news_articles_Df['Combined_Text'] = all_news_articles_Df['Title'] + '-' + all_news_articles_Df['SubHeading'].astype(str)\n",
        "     all_news_articles_Df['embedding'] = all_news_articles_Df['Combined_Text'].apply(lambda x: get_embedding(x, model='text-embedding-ada-002'))\n",
        "     all_news_articles_Df.to_csv(csv_file_path)\n",
        "     print(\"File saved successfully.\")\n",
        "else:\n",
        "    print(\"File already exists. Skipping the read operation.\")\n",
        "\n",
        "all_news_articles_Df = pd.read_csv(csv_file_path)\n",
        "all_news_articles_Df['embedding'] = all_news_articles_Df['embedding'].apply(eval).apply(np.array )\n",
        "#print(all_news_articles_Df)\n"
      ]
    },
    {
      "cell_type": "code",
      "execution_count": 35,
      "metadata": {
        "id": "11kN2AYxJOyr",
        "colab": {
          "base_uri": "https://localhost:8080/",
          "height": 52
        },
        "outputId": "a924c40c-a011-4505-835a-4e201793ec3c"
      },
      "outputs": [
        {
          "output_type": "stream",
          "name": "stdout",
          "text": [
            "2024-07-24\n",
            "0.82\n"
          ]
        },
        {
          "output_type": "display_data",
          "data": {
            "text/plain": [
              "<IPython.core.display.Javascript object>"
            ],
            "application/javascript": [
              "\n",
              "    async function download(id, filename, size) {\n",
              "      if (!google.colab.kernel.accessAllowed) {\n",
              "        return;\n",
              "      }\n",
              "      const div = document.createElement('div');\n",
              "      const label = document.createElement('label');\n",
              "      label.textContent = `Downloading \"${filename}\": `;\n",
              "      div.appendChild(label);\n",
              "      const progress = document.createElement('progress');\n",
              "      progress.max = size;\n",
              "      div.appendChild(progress);\n",
              "      document.body.appendChild(div);\n",
              "\n",
              "      const buffers = [];\n",
              "      let downloaded = 0;\n",
              "\n",
              "      const channel = await google.colab.kernel.comms.open(id);\n",
              "      // Send a message to notify the kernel that we're ready.\n",
              "      channel.send({})\n",
              "\n",
              "      for await (const message of channel.messages) {\n",
              "        // Send a message to notify the kernel that we're ready.\n",
              "        channel.send({})\n",
              "        if (message.buffers) {\n",
              "          for (const buffer of message.buffers) {\n",
              "            buffers.push(buffer);\n",
              "            downloaded += buffer.byteLength;\n",
              "            progress.value = downloaded;\n",
              "          }\n",
              "        }\n",
              "      }\n",
              "      const blob = new Blob(buffers, {type: 'application/binary'});\n",
              "      const a = document.createElement('a');\n",
              "      a.href = window.URL.createObjectURL(blob);\n",
              "      a.download = filename;\n",
              "      div.appendChild(a);\n",
              "      a.click();\n",
              "      div.remove();\n",
              "    }\n",
              "  "
            ]
          },
          "metadata": {}
        },
        {
          "output_type": "display_data",
          "data": {
            "text/plain": [
              "<IPython.core.display.Javascript object>"
            ],
            "application/javascript": [
              "download(\"download_4f68a4a4-a258-42d8-9361-5181f450a7d8\", \"relevant_news_link.csv\", 55342)"
            ]
          },
          "metadata": {}
        }
      ],
      "source": [
        "#finding news relevant for syllabus and PYQ\n",
        "from google.colab import files\n",
        "permanent_file_path = '/content/drive/MyDrive/ColabData/EditorialScitechCombined/compilation.xlsx'\n",
        "final_news = []\n",
        "ed_sci_news = []\n",
        "news_temp = []\n",
        "print(user_date)\n",
        "user_input_num = \"0.82\"  #defaulting to 0.82, you can also take user inputs here\n",
        "user_input_num = (\n",
        "    round(float(user_input_num.strip() or \"0.82\"), 3)\n",
        "    if (user_input_num.strip() or \"0\").replace(\".\", \"\", 1).isdigit()\n",
        "    and 0.80 <= float(user_input_num.strip() or \"0\") <= 1\n",
        "    else 0.82  # Default value if conditions are not met\n",
        ")\n",
        "print(user_input_num)\n",
        "\n",
        "all_news_articles_Df.drop_duplicates(subset=['Link'], inplace=True) #Removing duplicate links\n",
        "for index, line in all_news_articles_Df.iterrows():\n",
        "    summary_text = None\n",
        "    filtered_Df = pyq_Df[\n",
        "        pyq_Df[\"embedding\"].apply(\n",
        "            lambda x: cosine_similarity(x, line[\"embedding\"]) > user_input_num\n",
        "        )\n",
        "    ]\n",
        "    if not filtered_Df.empty:\n",
        "        # Calculate similarity scores for the filtered entries\n",
        "        filtered_Df = filtered_Df.copy()  # Explicitly create a copy\n",
        "        filtered_Df['similarity'] = filtered_Df[\"embedding\"].apply(\n",
        "            lambda x: cosine_similarity(x, line[\"embedding\"])\n",
        "        )\n",
        "        filtered_Df = filtered_Df.sort_values(by='similarity', ascending=False)\n",
        "        most_relevant_pyq = '\\n'.join(filtered_Df['Questions'])\n",
        "        try:\n",
        "         news_temp.append(\n",
        "             {\n",
        "                 \"Link\": line[\"Link\"],\n",
        "                 \"News Content\": openai_generate_summary(line[\"News Content\"]), #line[\"News Content\"],\n",
        "                 \"Relevant PYQ\": most_relevant_pyq,\n",
        "                 \"Title\": line[\"Title\"],\n",
        "                 'SubHeading': line['SubHeading'],\n",
        "                 \"Date\": user_date\n",
        "             }\n",
        "            )\n",
        "        except Exception as e:#\n",
        "         news_temp.append(\n",
        "             {\n",
        "                 \"Link\": line[\"Link\"],\n",
        "                 \"News Content\": line[\"News Content\"], #line[\"News Content\"],\n",
        "                 \"Relevant PYQ\": most_relevant_pyq,\n",
        "                 \"Title\": line[\"Title\"],\n",
        "                 'SubHeading': line['SubHeading'],\n",
        "                 \"Date\": user_date\n",
        "             }\n",
        "            )\n",
        "\n",
        "#news_temp_Df = pd.DataFrame(\n",
        " #   news_temp, columns=[\"Link\", \"News Content\", \"Relevant PYQ\", \"Title\", \"SubHeading\"]\n",
        "#)\n",
        "#total_records = len(news_temp_Df)\n",
        "final_news_Df = pd.DataFrame(news_temp, columns=['Link','SubHeading','Relevant PYQ','News Content'])\n",
        "final_news_Df.to_csv('/content/sample_data/relevant_news_link.csv', index=False)\n",
        "files.download('/content/sample_data/relevant_news_link.csv')"
      ]
    },
    {
      "cell_type": "markdown",
      "metadata": {
        "id": "4VK9kbP78sUd"
      },
      "source": [
        "Future project\n",
        "1.   Use Flask for interactive user inteface\n",
        "2.   Use Google cloud scheduler to run notebook daily at specific time\n",
        "\n"
      ]
    }
  ],
  "metadata": {
    "colab": {
      "provenance": [],
      "authorship_tag": "ABX9TyOQTdMbjBRFqH+nUI51lOvc",
      "include_colab_link": true
    },
    "kernelspec": {
      "display_name": "Python 3",
      "name": "python3"
    },
    "language_info": {
      "name": "python"
    }
  },
  "nbformat": 4,
  "nbformat_minor": 0
}